{
 "cells": [
  {
   "cell_type": "markdown",
   "metadata": {},
   "source": [
    "Consider an algorithm that takes as input a positive integer n. If n is even, the algorithm divides it by two, and if n is odd, the algorithm multiplies it by three and adds one. The algorithm repeats this, until n is one. For example, the sequence for n=3 is as follows:\n",
    "3→10→5→16→8→4→2→1\n",
    "\n",
    "Your task is to simulate the execution of the algorithm for a given value of n.\n",
    "\n",
    "Input\n",
    "\n",
    "The only input line contains an integer n.\n",
    "\n",
    "Output\n",
    "\n",
    "Print a line that contains all values of n during the algorithm.\n",
    "\n",
    "Constraints\n",
    "1≤n≤106\n",
    "Example\n",
    "\n",
    "Input:\n",
    "3\n",
    "\n",
    "Output:\n",
    "3 10 5 16 8 4 2 1\n"
   ]
  },
  {
   "cell_type": "code",
   "execution_count": 4,
   "metadata": {},
   "outputs": [
    {
     "name": "stdout",
     "output_type": "stream",
     "text": [
      "3\n",
      "10\n",
      "5\n",
      "16\n",
      "8\n",
      "4\n",
      "2\n",
      "1\n"
     ]
    }
   ],
   "source": [
    "def weird_algorithm(n):\n",
    "    while(True):\n",
    "        print(int(n))\n",
    "        if n ==1: \n",
    "            break\n",
    "        elif n % 2 == 0:\n",
    "            n = n / 2 \n",
    "        elif n % 2 != 0:\n",
    "            n = n * 3 + 1\n",
    "        \n",
    "weird_algorithm(3)"
   ]
  },
  {
   "cell_type": "code",
   "execution_count": null,
   "metadata": {},
   "outputs": [],
   "source": []
  }
 ],
 "metadata": {
  "kernelspec": {
   "display_name": "pystable",
   "language": "python",
   "name": "pystable"
  },
  "language_info": {
   "codemirror_mode": {
    "name": "ipython",
    "version": 3
   },
   "file_extension": ".py",
   "mimetype": "text/x-python",
   "name": "python",
   "nbconvert_exporter": "python",
   "pygments_lexer": "ipython3",
   "version": "3.6.10"
  }
 },
 "nbformat": 4,
 "nbformat_minor": 4
}
